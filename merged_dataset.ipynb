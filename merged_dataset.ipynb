{
 "cells": [
  {
   "cell_type": "markdown",
   "id": "c6096435",
   "metadata": {},
   "source": [
    "# importing library"
   ]
  },
  {
   "cell_type": "code",
   "execution_count": 2,
   "id": "c4517473",
   "metadata": {},
   "outputs": [],
   "source": [
    "import numpy as np\n",
    "import pandas as pd\n",
    "import matplotlib.pyplot as plt\n",
    "import seaborn as sns"
   ]
  },
  {
   "cell_type": "code",
   "execution_count": 3,
   "id": "85f45395",
   "metadata": {},
   "outputs": [
    {
     "name": "stderr",
     "output_type": "stream",
     "text": [
      "/tmp/ipykernel_9154/2966395077.py:1: DtypeWarning: Columns (22) have mixed types. Specify dtype option on import or set low_memory=False.\n",
      "  df_final=pd.read_csv('df_final')\n"
     ]
    }
   ],
   "source": [
    "df_final=pd.read_csv('df_final')"
   ]
  },
  {
   "cell_type": "code",
   "execution_count": 4,
   "id": "6078d7f9",
   "metadata": {},
   "outputs": [
    {
     "data": {
      "text/plain": [
       "0         24000.0\n",
       "1         24000.0\n",
       "2         24000.0\n",
       "3         24000.0\n",
       "4         24000.0\n",
       "           ...   \n",
       "360907    54370.0\n",
       "360908    76800.0\n",
       "360909    76800.0\n",
       "360910    80100.0\n",
       "360911    74341.0\n",
       "Name: EMI, Length: 360912, dtype: float64"
      ]
     },
     "execution_count": 4,
     "metadata": {},
     "output_type": "execute_result"
    }
   ],
   "source": [
    "df_final['EMI']"
   ]
  },
  {
   "cell_type": "code",
   "execution_count": 5,
   "id": "97c13cb9",
   "metadata": {},
   "outputs": [],
   "source": [
    "df_final.drop(['ID','EMI','Unnamed: 0.1','Unnamed: 0','AmountFinance','OVERDUE-AMT_y','OVERDUE-AMT_x','DisbursalDate','WRITE-OFF-AMT','0','State','Feedback','Top-up Month','AGE'],axis=1,inplace=True)"
   ]
  },
  {
   "cell_type": "code",
   "execution_count": 6,
   "id": "408242b6",
   "metadata": {},
   "outputs": [
    {
     "data": {
      "text/plain": [
       "0         yes\n",
       "1         yes\n",
       "2         yes\n",
       "3         yes\n",
       "4         yes\n",
       "         ... \n",
       "360907    yes\n",
       "360908    yes\n",
       "360909    yes\n",
       "360910     no\n",
       "360911     no\n",
       "Name: Target, Length: 360912, dtype: object"
      ]
     },
     "execution_count": 6,
     "metadata": {},
     "output_type": "execute_result"
    }
   ],
   "source": [
    "df_final['Target'].map({1:'yes',0:'no'})"
   ]
  },
  {
   "cell_type": "code",
   "execution_count": 7,
   "id": "440f49ef",
   "metadata": {},
   "outputs": [
    {
     "data": {
      "text/plain": [
       "0         yes\n",
       "1         yes\n",
       "2         yes\n",
       "3         yes\n",
       "4         yes\n",
       "         ... \n",
       "360907    yes\n",
       "360908    yes\n",
       "360909    yes\n",
       "360910    yes\n",
       "360911    yes\n",
       "Name: capable1, Length: 360912, dtype: object"
      ]
     },
     "execution_count": 7,
     "metadata": {},
     "output_type": "execute_result"
    }
   ],
   "source": [
    "df_final['capable1'].map({1:'yes',0:'no'})"
   ]
  },
  {
   "cell_type": "code",
   "execution_count": 8,
   "id": "13572b2c",
   "metadata": {},
   "outputs": [
    {
     "data": {
      "text/html": [
       "<div>\n",
       "<style scoped>\n",
       "    .dataframe tbody tr th:only-of-type {\n",
       "        vertical-align: middle;\n",
       "    }\n",
       "\n",
       "    .dataframe tbody tr th {\n",
       "        vertical-align: top;\n",
       "    }\n",
       "\n",
       "    .dataframe thead th {\n",
       "        text-align: right;\n",
       "    }\n",
       "</style>\n",
       "<table border=\"1\" class=\"dataframe\">\n",
       "  <thead>\n",
       "    <tr style=\"text-align: right;\">\n",
       "      <th></th>\n",
       "      <th>Frequency</th>\n",
       "      <th>InstlmentMode</th>\n",
       "      <th>LoanStatus</th>\n",
       "      <th>Tenure</th>\n",
       "      <th>AssetCost</th>\n",
       "      <th>DisbursalAmount</th>\n",
       "      <th>LTV</th>\n",
       "      <th>MonthlyIncome</th>\n",
       "      <th>Target</th>\n",
       "      <th>new_emi1</th>\n",
       "      <th>capable1</th>\n",
       "      <th>ACCOUNT-STATUS</th>\n",
       "    </tr>\n",
       "  </thead>\n",
       "  <tbody>\n",
       "    <tr>\n",
       "      <th>0</th>\n",
       "      <td>Monthly</td>\n",
       "      <td>Arrear</td>\n",
       "      <td>Closed</td>\n",
       "      <td>48</td>\n",
       "      <td>450000</td>\n",
       "      <td>275000.0</td>\n",
       "      <td>61.11</td>\n",
       "      <td>35833.0</td>\n",
       "      <td>1</td>\n",
       "      <td>24000.000000</td>\n",
       "      <td>1</td>\n",
       "      <td>Active</td>\n",
       "    </tr>\n",
       "    <tr>\n",
       "      <th>1</th>\n",
       "      <td>Monthly</td>\n",
       "      <td>Arrear</td>\n",
       "      <td>Closed</td>\n",
       "      <td>48</td>\n",
       "      <td>450000</td>\n",
       "      <td>275000.0</td>\n",
       "      <td>61.11</td>\n",
       "      <td>35833.0</td>\n",
       "      <td>1</td>\n",
       "      <td>24000.000000</td>\n",
       "      <td>1</td>\n",
       "      <td>Active</td>\n",
       "    </tr>\n",
       "    <tr>\n",
       "      <th>2</th>\n",
       "      <td>Monthly</td>\n",
       "      <td>Arrear</td>\n",
       "      <td>Closed</td>\n",
       "      <td>48</td>\n",
       "      <td>450000</td>\n",
       "      <td>275000.0</td>\n",
       "      <td>61.11</td>\n",
       "      <td>35833.0</td>\n",
       "      <td>1</td>\n",
       "      <td>24000.000000</td>\n",
       "      <td>1</td>\n",
       "      <td>Active</td>\n",
       "    </tr>\n",
       "    <tr>\n",
       "      <th>3</th>\n",
       "      <td>Monthly</td>\n",
       "      <td>Arrear</td>\n",
       "      <td>Closed</td>\n",
       "      <td>48</td>\n",
       "      <td>450000</td>\n",
       "      <td>275000.0</td>\n",
       "      <td>61.11</td>\n",
       "      <td>35833.0</td>\n",
       "      <td>1</td>\n",
       "      <td>24000.000000</td>\n",
       "      <td>1</td>\n",
       "      <td>Active</td>\n",
       "    </tr>\n",
       "    <tr>\n",
       "      <th>4</th>\n",
       "      <td>Monthly</td>\n",
       "      <td>Arrear</td>\n",
       "      <td>Closed</td>\n",
       "      <td>48</td>\n",
       "      <td>450000</td>\n",
       "      <td>275000.0</td>\n",
       "      <td>61.11</td>\n",
       "      <td>35833.0</td>\n",
       "      <td>1</td>\n",
       "      <td>24000.000000</td>\n",
       "      <td>1</td>\n",
       "      <td>Active</td>\n",
       "    </tr>\n",
       "    <tr>\n",
       "      <th>...</th>\n",
       "      <td>...</td>\n",
       "      <td>...</td>\n",
       "      <td>...</td>\n",
       "      <td>...</td>\n",
       "      <td>...</td>\n",
       "      <td>...</td>\n",
       "      <td>...</td>\n",
       "      <td>...</td>\n",
       "      <td>...</td>\n",
       "      <td>...</td>\n",
       "      <td>...</td>\n",
       "      <td>...</td>\n",
       "    </tr>\n",
       "    <tr>\n",
       "      <th>360907</th>\n",
       "      <td>Quatrly</td>\n",
       "      <td>Arrear</td>\n",
       "      <td>Closed</td>\n",
       "      <td>12</td>\n",
       "      <td>650000</td>\n",
       "      <td>200000.0</td>\n",
       "      <td>30.77</td>\n",
       "      <td>69083.0</td>\n",
       "      <td>1</td>\n",
       "      <td>18123.333333</td>\n",
       "      <td>1</td>\n",
       "      <td>Active</td>\n",
       "    </tr>\n",
       "    <tr>\n",
       "      <th>360908</th>\n",
       "      <td>Half Yearly</td>\n",
       "      <td>Arrear</td>\n",
       "      <td>Closed</td>\n",
       "      <td>24</td>\n",
       "      <td>470000</td>\n",
       "      <td>265601.0</td>\n",
       "      <td>40.17</td>\n",
       "      <td>65333.0</td>\n",
       "      <td>1</td>\n",
       "      <td>12800.000000</td>\n",
       "      <td>1</td>\n",
       "      <td>Active</td>\n",
       "    </tr>\n",
       "    <tr>\n",
       "      <th>360909</th>\n",
       "      <td>Half Yearly</td>\n",
       "      <td>Arrear</td>\n",
       "      <td>Closed</td>\n",
       "      <td>24</td>\n",
       "      <td>470000</td>\n",
       "      <td>265601.0</td>\n",
       "      <td>40.17</td>\n",
       "      <td>65333.0</td>\n",
       "      <td>1</td>\n",
       "      <td>12800.000000</td>\n",
       "      <td>1</td>\n",
       "      <td>Active</td>\n",
       "    </tr>\n",
       "    <tr>\n",
       "      <th>360910</th>\n",
       "      <td>Half Yearly</td>\n",
       "      <td>Arrear</td>\n",
       "      <td>Closed</td>\n",
       "      <td>24</td>\n",
       "      <td>460000</td>\n",
       "      <td>275630.0</td>\n",
       "      <td>59.92</td>\n",
       "      <td>83333.0</td>\n",
       "      <td>0</td>\n",
       "      <td>13350.000000</td>\n",
       "      <td>1</td>\n",
       "      <td>Active</td>\n",
       "    </tr>\n",
       "    <tr>\n",
       "      <th>360911</th>\n",
       "      <td>Half Yearly</td>\n",
       "      <td>Arrear</td>\n",
       "      <td>Active</td>\n",
       "      <td>35</td>\n",
       "      <td>350000</td>\n",
       "      <td>250962.0</td>\n",
       "      <td>50.37</td>\n",
       "      <td>84500.0</td>\n",
       "      <td>0</td>\n",
       "      <td>12390.166667</td>\n",
       "      <td>1</td>\n",
       "      <td>Active</td>\n",
       "    </tr>\n",
       "  </tbody>\n",
       "</table>\n",
       "<p>360912 rows × 12 columns</p>\n",
       "</div>"
      ],
      "text/plain": [
       "          Frequency InstlmentMode LoanStatus  Tenure  AssetCost  \\\n",
       "0           Monthly        Arrear     Closed      48     450000   \n",
       "1           Monthly        Arrear     Closed      48     450000   \n",
       "2           Monthly        Arrear     Closed      48     450000   \n",
       "3           Monthly        Arrear     Closed      48     450000   \n",
       "4           Monthly        Arrear     Closed      48     450000   \n",
       "...             ...           ...        ...     ...        ...   \n",
       "360907      Quatrly        Arrear     Closed      12     650000   \n",
       "360908  Half Yearly        Arrear     Closed      24     470000   \n",
       "360909  Half Yearly        Arrear     Closed      24     470000   \n",
       "360910  Half Yearly        Arrear     Closed      24     460000   \n",
       "360911  Half Yearly        Arrear     Active      35     350000   \n",
       "\n",
       "        DisbursalAmount    LTV  MonthlyIncome  Target      new_emi1  capable1  \\\n",
       "0              275000.0  61.11        35833.0       1  24000.000000         1   \n",
       "1              275000.0  61.11        35833.0       1  24000.000000         1   \n",
       "2              275000.0  61.11        35833.0       1  24000.000000         1   \n",
       "3              275000.0  61.11        35833.0       1  24000.000000         1   \n",
       "4              275000.0  61.11        35833.0       1  24000.000000         1   \n",
       "...                 ...    ...            ...     ...           ...       ...   \n",
       "360907         200000.0  30.77        69083.0       1  18123.333333         1   \n",
       "360908         265601.0  40.17        65333.0       1  12800.000000         1   \n",
       "360909         265601.0  40.17        65333.0       1  12800.000000         1   \n",
       "360910         275630.0  59.92        83333.0       0  13350.000000         1   \n",
       "360911         250962.0  50.37        84500.0       0  12390.166667         1   \n",
       "\n",
       "       ACCOUNT-STATUS  \n",
       "0              Active  \n",
       "1              Active  \n",
       "2              Active  \n",
       "3              Active  \n",
       "4              Active  \n",
       "...               ...  \n",
       "360907         Active  \n",
       "360908         Active  \n",
       "360909         Active  \n",
       "360910         Active  \n",
       "360911         Active  \n",
       "\n",
       "[360912 rows x 12 columns]"
      ]
     },
     "execution_count": 8,
     "metadata": {},
     "output_type": "execute_result"
    }
   ],
   "source": [
    "df_final"
   ]
  },
  {
   "cell_type": "code",
   "execution_count": 9,
   "id": "fb8ce158",
   "metadata": {},
   "outputs": [
    {
     "data": {
      "text/plain": [
       "0    239378\n",
       "1    121534\n",
       "Name: Target, dtype: int64"
      ]
     },
     "execution_count": 9,
     "metadata": {},
     "output_type": "execute_result"
    }
   ],
   "source": [
    "df_final['Target'].value_counts()"
   ]
  },
  {
   "cell_type": "code",
   "execution_count": 10,
   "id": "74696080",
   "metadata": {},
   "outputs": [
    {
     "data": {
      "text/plain": [
       "array(['Monthly', 'Quatrly', 'Half Yearly', 'BI-Monthly'], dtype=object)"
      ]
     },
     "execution_count": 10,
     "metadata": {},
     "output_type": "execute_result"
    }
   ],
   "source": [
    "df_final['Frequency'].unique()"
   ]
  },
  {
   "cell_type": "code",
   "execution_count": 11,
   "id": "c0ff6705",
   "metadata": {},
   "outputs": [
    {
     "data": {
      "text/plain": [
       "1    298471\n",
       "0     62441\n",
       "Name: capable1, dtype: int64"
      ]
     },
     "execution_count": 11,
     "metadata": {},
     "output_type": "execute_result"
    }
   ],
   "source": [
    "df_final['capable1'].value_counts()"
   ]
  },
  {
   "cell_type": "code",
   "execution_count": 12,
   "id": "84692062",
   "metadata": {},
   "outputs": [
    {
     "name": "stderr",
     "output_type": "stream",
     "text": [
      "/tmp/ipykernel_9154/2285805241.py:1: FutureWarning: The default value of numeric_only in DataFrame.corr is deprecated. In a future version, it will default to False. Select only valid columns or specify the value of numeric_only to silence this warning.\n",
      "  correlation_matrix = df_final.corr()\n"
     ]
    },
    {
     "data": {
      "image/png": "[encoded data removed]",
      "text/plain": [
       "<Figure size 1000x800 with 2 Axes>"
      ]
     },
     "metadata": {},
     "output_type": "display_data"
    }
   ],
   "source": [
    "correlation_matrix = df_final.corr()\n",
    "plt.figure(figsize=(10, 8))\n",
    "sns.heatmap(correlation_matrix, annot=True, cmap='coolwarm')\n",
    "plt.title('Correlation Matrix')\n",
    "plt.show()"
   ]
  },
  {
   "cell_type": "code",
   "execution_count": 13,
   "id": "deca0680",
   "metadata": {},
   "outputs": [],
   "source": [
    "import pandas as pd\n",
    "from sklearn.model_selection import train_test_split\n",
    "from sklearn.preprocessing import LabelEncoder\n",
    "from sklearn.impute import SimpleImputer\n",
    "from sklearn.linear_model import LogisticRegression\n",
    "from sklearn.neighbors import KNeighborsClassifier\n",
    "from sklearn.svm import SVC\n",
    "from sklearn.tree import DecisionTreeClassifier\n",
    "from sklearn.ensemble import RandomForestClassifier, GradientBoostingClassifier\n",
    "from xgboost import XGBClassifier\n",
    "from lightgbm import LGBMClassifier\n",
    "from sklearn.metrics import accuracy_score"
   ]
  },
  {
   "cell_type": "code",
   "execution_count": 14,
   "id": "545ef12d",
   "metadata": {},
   "outputs": [
    {
     "name": "stdout",
     "output_type": "stream",
     "text": [
      "<class 'pandas.core.frame.DataFrame'>\n",
      "RangeIndex: 360912 entries, 0 to 360911\n",
      "Data columns (total 12 columns):\n",
      " #   Column           Non-Null Count   Dtype  \n",
      "---  ------           --------------   -----  \n",
      " 0   Frequency        360912 non-null  object \n",
      " 1   InstlmentMode    360912 non-null  object \n",
      " 2   LoanStatus       360912 non-null  object \n",
      " 3   Tenure           360912 non-null  int64  \n",
      " 4   AssetCost        360912 non-null  int64  \n",
      " 5   DisbursalAmount  360912 non-null  float64\n",
      " 6   LTV              360912 non-null  float64\n",
      " 7   MonthlyIncome    360451 non-null  float64\n",
      " 8   Target           360912 non-null  int64  \n",
      " 9   new_emi1         360912 non-null  float64\n",
      " 10  capable1         360912 non-null  int64  \n",
      " 11  ACCOUNT-STATUS   360912 non-null  object \n",
      "dtypes: float64(4), int64(4), object(4)\n",
      "memory usage: 33.0+ MB\n"
     ]
    }
   ],
   "source": [
    "df_final.info()"
   ]
  },
  {
   "cell_type": "markdown",
   "id": "52751639",
   "metadata": {},
   "source": [
    "# label encoding"
   ]
  },
  {
   "cell_type": "code",
   "execution_count": 15,
   "id": "d6c7cc00",
   "metadata": {},
   "outputs": [],
   "source": [
    "cat_cols =df_final.select_dtypes(include=['object']).columns\n",
    "label_encoders = {}\n",
    "for col in cat_cols:\n",
    "    le = LabelEncoder()\n",
    "    df_final[col] = le.fit_transform(df_final[col])\n",
    "    label_encoders[col] = le"
   ]
  },
  {
   "cell_type": "code",
   "execution_count": null,
   "id": "c780da22",
   "metadata": {},
   "outputs": [],
   "source": [
    "\n"
   ]
  },
  {
   "cell_type": "code",
   "execution_count": 16,
   "id": "e3cf0061",
   "metadata": {},
   "outputs": [
    {
     "name": "stdout",
     "output_type": "stream",
     "text": [
      "<class 'pandas.core.frame.DataFrame'>\n",
      "RangeIndex: 360912 entries, 0 to 360911\n",
      "Data columns (total 12 columns):\n",
      " #   Column           Non-Null Count   Dtype  \n",
      "---  ------           --------------   -----  \n",
      " 0   Frequency        360912 non-null  int64  \n",
      " 1   InstlmentMode    360912 non-null  int64  \n",
      " 2   LoanStatus       360912 non-null  int64  \n",
      " 3   Tenure           360912 non-null  int64  \n",
      " 4   AssetCost        360912 non-null  int64  \n",
      " 5   DisbursalAmount  360912 non-null  float64\n",
      " 6   LTV              360912 non-null  float64\n",
      " 7   MonthlyIncome    360451 non-null  float64\n",
      " 8   Target           360912 non-null  int64  \n",
      " 9   new_emi1         360912 non-null  float64\n",
      " 10  capable1         360912 non-null  int64  \n",
      " 11  ACCOUNT-STATUS   360912 non-null  int64  \n",
      "dtypes: float64(4), int64(8)\n",
      "memory usage: 33.0 MB\n"
     ]
    }
   ],
   "source": [
    "df_final.info()"
   ]
  },
  {
   "cell_type": "code",
   "execution_count": 17,
   "id": "2e04649c",
   "metadata": {},
   "outputs": [],
   "source": [
    "X = df_final.drop(columns=['capable1'])\n",
    "y = df_final['capable1']"
   ]
  },
  {
   "cell_type": "code",
   "execution_count": 182,
   "id": "aba62366",
   "metadata": {},
   "outputs": [],
   "source": [
    "imputer = SimpleImputer(strategy='mean')\n",
    "X = imputer.fit_transform(X)"
   ]
  },
  {
   "cell_type": "markdown",
   "id": "de46cb0f",
   "metadata": {},
   "source": [
    "X_train, X_test, y_train, y_test = train_test_split(X, y, test_size=0.2, random_state=42)"
   ]
  },
  {
   "cell_type": "markdown",
   "id": "570c5ac0",
   "metadata": {},
   "source": [
    "# logistic regression"
   ]
  },
  {
   "cell_type": "code",
   "execution_count": 184,
   "id": "9e658663",
   "metadata": {},
   "outputs": [
    {
     "name": "stdout",
     "output_type": "stream",
     "text": [
      "Logistic Regression Accuracy: 0.8197498025850962\n"
     ]
    }
   ],
   "source": [
    "lr_model = LogisticRegression()\n",
    "lr_model.fit(X_train, y_train)\n",
    "lr_pred = lr_model.predict(X_test)\n",
    "lr_accuracy = accuracy_score(y_test, lr_pred)\n",
    "print(\"Logistic Regression Accuracy:\", lr_accuracy)"
   ]
  },
  {
   "cell_type": "markdown",
   "id": "fae75a7e",
   "metadata": {},
   "source": [
    "# knn"
   ]
  },
  {
   "cell_type": "code",
   "execution_count": 185,
   "id": "a58864b6",
   "metadata": {},
   "outputs": [
    {
     "name": "stdout",
     "output_type": "stream",
     "text": [
      "KNN Accuracy: 0.9392239169887646\n"
     ]
    }
   ],
   "source": [
    "knn_model = KNeighborsClassifier()\n",
    "knn_model.fit(X_train, y_train)\n",
    "knn_pred = knn_model.predict(X_test)\n",
    "knn_accuracy = accuracy_score(y_test, knn_pred)\n",
    "print(\"KNN Accuracy:\", knn_accuracy)"
   ]
  },
  {
   "cell_type": "markdown",
   "id": "e9374831",
   "metadata": {},
   "source": [
    "# dession tree"
   ]
  },
  {
   "cell_type": "code",
   "execution_count": 186,
   "id": "7ca5d611",
   "metadata": {},
   "outputs": [
    {
     "name": "stdout",
     "output_type": "stream",
     "text": [
      "Decision Tree Accuracy: 0.9998060485155784\n"
     ]
    }
   ],
   "source": [
    "dt_model = DecisionTreeClassifier()\n",
    "dt_model.fit(X_train, y_train)\n",
    "dt_pred = dt_model.predict(X_test)\n",
    "dt_accuracy = accuracy_score(y_test, dt_pred)\n",
    "print(\"Decision Tree Accuracy:\", dt_accuracy)"
   ]
  },
  {
   "cell_type": "code",
   "execution_count": null,
   "id": "1f99e500",
   "metadata": {},
   "outputs": [],
   "source": []
  },
  {
   "cell_type": "markdown",
   "id": "81da066e",
   "metadata": {},
   "source": [
    "# creating pickle file"
   ]
  },
  {
   "cell_type": "code",
   "execution_count": 187,
   "id": "e85b11d6",
   "metadata": {},
   "outputs": [],
   "source": [
    "import pickle\n",
    "with open('lr_model.pkl','wb') as file:\n",
    "    pickle.dump(lr_model,file)"
   ]
  },
  {
   "cell_type": "code",
   "execution_count": 188,
   "id": "2263d624",
   "metadata": {},
   "outputs": [
    {
     "data": {
      "text/plain": [
       "4"
      ]
     },
     "execution_count": 188,
     "metadata": {},
     "output_type": "execute_result"
    }
   ],
   "source": [
    "df_final['Frequency'].nunique()"
   ]
  },
  {
   "cell_type": "code",
   "execution_count": 192,
   "id": "82ad1bdd",
   "metadata": {},
   "outputs": [],
   "source": [
    "\n"
   ]
  },
  {
   "cell_type": "code",
   "execution_count": 193,
   "id": "f22d799d",
   "metadata": {},
   "outputs": [
    {
     "data": {
      "text/plain": [
       "{}"
      ]
     },
     "execution_count": 193,
     "metadata": {},
     "output_type": "execute_result"
    }
   ],
   "source": []
  },
  {
   "cell_type": "code",
   "execution_count": null,
   "id": "830ba737",
   "metadata": {},
   "outputs": [],
   "source": []
  }
 ],
 "metadata": {
  "kernelspec": {
   "display_name": "Python 3 (ipykernel)",
   "language": "python",
   "name": "python3"
  },
  "language_info": {
   "codemirror_mode": {
    "name": "ipython",
    "version": 3
   },
   "file_extension": ".py",
   "mimetype": "text/x-python",
   "name": "python",
   "nbconvert_exporter": "python",
   "pygments_lexer": "ipython3",
   "version": "3.10.12"
  }
 },
 "nbformat": 4,
 "nbformat_minor": 5
}
